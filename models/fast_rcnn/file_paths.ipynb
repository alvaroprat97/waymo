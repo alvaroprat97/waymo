{
 "cells": [
  {
   "cell_type": "code",
   "execution_count": 16,
   "metadata": {},
   "outputs": [],
   "source": [
    "import concurrent.futures\n",
    "import os\n",
    "import numpy as np\n",
    "import pickle\n",
    "import time"
   ]
  },
  {
   "cell_type": "code",
   "execution_count": 17,
   "metadata": {},
   "outputs": [],
   "source": [
    "FILEPATHS = []\n",
    "root_dir=\"/home/project_x/data/\"\n",
    "scope = 'validation'\n",
    "root_path = root_dir + scope\n",
    "for cam in ['FRONT']:\n",
    "    cam_filepaths = os.listdir(f\"{root_path}/{cam}\")\n",
    "    FILEPATHS += [f\"{root_path}/{cam}/{i}\" for i in cam_filepaths]"
   ]
  },
  {
   "cell_type": "code",
   "execution_count": 18,
   "metadata": {},
   "outputs": [
    {
     "data": {
      "text/plain": [
       "39988"
      ]
     },
     "execution_count": 18,
     "metadata": {},
     "output_type": "execute_result"
    }
   ],
   "source": [
    "len(FILEPATHS)"
   ]
  },
  {
   "cell_type": "code",
   "execution_count": 19,
   "metadata": {},
   "outputs": [
    {
     "data": {
      "text/plain": [
       "'/home/project_x/data/validation/FRONT/blob_130_frame_124.pickle'"
      ]
     },
     "execution_count": 19,
     "metadata": {},
     "output_type": "execute_result"
    }
   ],
   "source": [
    "FILEPATHS[0]"
   ]
  },
  {
   "cell_type": "code",
   "execution_count": 20,
   "metadata": {},
   "outputs": [],
   "source": [
    "def load_pickle(fpath):\n",
    "    with open(fpath, \"rb\") as f:\n",
    "        return pickle.load(f)"
   ]
  },
  {
   "cell_type": "code",
   "execution_count": 21,
   "metadata": {},
   "outputs": [],
   "source": [
    "def load_annotations(annot):\n",
    "        # get ground truth annotations\n",
    "        annotations = np.zeros((0, 5))\n",
    "\n",
    "        # some images appear to miss annotations\n",
    "        if len(annot) == 0:\n",
    "            return annotations\n",
    "\n",
    "        # parse annotations\n",
    "        for idx, a in enumerate(annot):\n",
    "\n",
    "            # some annotations have basically no width / height, skip them\n",
    "            if a.box.width < 1 or a.box.length < 1:\n",
    "                continue\n",
    "\n",
    "            annotation = np.zeros((1, 5))\n",
    "            annotation[0, :4] = [\n",
    "            a.box.center_x -0.5*a.box.length,\n",
    "            a.box.center_y -0.5*a.box.width,\n",
    "            a.box.center_x +0.5*a.box.length,\n",
    "            a.box.center_y +0.5*a.box.width,\n",
    "            ]\n",
    "            annotation[0, 4] = a.type-1\n",
    "            annotations = np.append(annotations, annotation, axis=0)\n",
    "\n",
    "\n",
    "        return annotations"
   ]
  },
  {
   "cell_type": "code",
   "execution_count": 22,
   "metadata": {},
   "outputs": [],
   "source": [
    "def get_paths(ran, filepaths=FILEPATHS, exclusions=True,):\n",
    "    fro, up_to = ran\n",
    "    # Filter exclusions\n",
    "    if exclusions is not None:\n",
    "        filepaths = [\n",
    "            i for i in filepaths[fro:up_to] if load_annotations(load_pickle(i)['labels'].labels).any()\n",
    "        ]   \n",
    "    return filepaths"
   ]
  },
  {
   "cell_type": "code",
   "execution_count": null,
   "metadata": {},
   "outputs": [],
   "source": [
    "if scope == 'validation':\n",
    "    start = time.perf_counter()\n",
    "    with concurrent.futures.ThreadPoolExecutor(max_workers = 8) as executor:\n",
    "        args1 = range(0, 39000, 1000)\n",
    "        args2 = range(1000, 40000, 1000)\n",
    "        args = list(zip(args1, args2))\n",
    "        args3 = [(39000, 39989)]\n",
    "        args += args3\n",
    "        fs = executor.map(get_paths, args)\n",
    "    finish = time.perf_counter()\n",
    "    print(f'{finish - start}')\n",
    "\n",
    "elif scope == 'train':\n",
    "    start = time.perf_counter()\n",
    "    with concurrent.futures.ThreadPoolExecutor(max_workers = 8) as executor:\n",
    "        args1 = range(0, 158000, 1000)\n",
    "        args2 = range(1000, 159000, 1000)\n",
    "        args = list(zip(args1, args2))\n",
    "        args3 = [(158000, 158082)]\n",
    "        args += args3\n",
    "        fs = executor.map(get_paths, args)\n",
    "    finish = time.perf_counter()\n",
    "    print(f'{finish - start}')"
   ]
  },
  {
   "cell_type": "code",
   "execution_count": null,
   "metadata": {},
   "outputs": [],
   "source": [
    "whole = []\n",
    "for f in fs:\n",
    "    whole += f"
   ]
  },
  {
   "cell_type": "code",
   "execution_count": 20,
   "metadata": {},
   "outputs": [],
   "source": [
    "with open(f'{scope}_{cam}_with_objects.pickle', \"wb\") as outfile:\n",
    "    pickle.dump(whole, outfile)"
   ]
  },
  {
   "cell_type": "code",
   "execution_count": 21,
   "metadata": {},
   "outputs": [
    {
     "data": {
      "text/plain": [
       "123484"
      ]
     },
     "execution_count": 21,
     "metadata": {},
     "output_type": "execute_result"
    }
   ],
   "source": [
    "len(whole)"
   ]
  },
  {
   "cell_type": "code",
   "execution_count": null,
   "metadata": {},
   "outputs": [],
   "source": [
    "whole[0]"
   ]
  },
  {
   "cell_type": "code",
   "execution_count": null,
   "metadata": {},
   "outputs": [],
   "source": []
  }
 ],
 "metadata": {
  "kernelspec": {
   "display_name": "Python 3",
   "language": "python",
   "name": "python3"
  },
  "language_info": {
   "codemirror_mode": {
    "name": "ipython",
    "version": 3
   },
   "file_extension": ".py",
   "mimetype": "text/x-python",
   "name": "python",
   "nbconvert_exporter": "python",
   "pygments_lexer": "ipython3",
   "version": "3.6.9"
  }
 },
 "nbformat": 4,
 "nbformat_minor": 4
}
