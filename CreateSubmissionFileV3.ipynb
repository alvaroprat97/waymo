{
 "cells": [
  {
   "cell_type": "code",
   "execution_count": 1,
   "metadata": {},
   "outputs": [
    {
     "name": "stderr",
     "output_type": "stream",
     "text": [
      "/usr/local/lib/python3.6/dist-packages/torch/serialization.py:453: SourceChangeWarning: source code of class 'src.model.EfficientDet' has changed. you can retrieve the original source code by accessing the object's source attribute or set `torch.nn.Module.dump_patches = True` and use the patch tool to revert the changes.\n",
      "  warnings.warn(msg, SourceChangeWarning)\n",
      "/usr/local/lib/python3.6/dist-packages/torch/serialization.py:453: SourceChangeWarning: source code of class 'src.model.EfficientNet' has changed. you can retrieve the original source code by accessing the object's source attribute or set `torch.nn.Module.dump_patches = True` and use the patch tool to revert the changes.\n",
      "  warnings.warn(msg, SourceChangeWarning)\n"
     ]
    }
   ],
   "source": [
    "import os\n",
    "import time\n",
    "os.chdir('models/efficientdet/')\n",
    "import numpy as np\n",
    "import torch\n",
    "from torchvision import transforms\n",
    "from src.dataset import WaymoDataset, Resizer, Normalizer\n",
    "import gc\n",
    "from torch.utils.data import DataLoader\n",
    "dataset = WaymoDataset(cameras=['FRONT'], scope='validation', \n",
    "                transform=transforms.Compose([Normalizer(), Resizer(common_size=1920)])) #resize to 1920 1280\n",
    "model = torch.load('trained_models/efficientdet_waymo.pth',\n",
    "          map_location=torch.device('cpu'))\n",
    "model.cuda()\n",
    "model.requires_grad=False"
   ]
  },
  {
   "cell_type": "code",
   "execution_count": null,
   "metadata": {},
   "outputs": [
    {
     "name": "stdout",
     "output_type": "stream",
     "text": [
      "(0, 1)\n",
      "torch.Size([1, 1920, 1920, 3])\n"
     ]
    }
   ],
   "source": [
    "import torch\n",
    "from waymo_open_dataset.protos import metrics_pb2\n",
    "from waymo_open_dataset import label_pb2,dataset_pb2\n",
    "import concurrent.futures as concurr\n",
    "\n",
    "# ['vehicle', 'pedestrian', 'sign', 'cyclist']\n",
    "score_threshold = 0.3\n",
    "def get_preds(images, model):\n",
    "    start = time.time()\n",
    "    with torch.no_grad():\n",
    "        scores, annot, boxes = model(images.permute(0, 3, 1, 2).float())\n",
    "    return scores, annot, boxes\n",
    "def convert_to_waymo_boxes(boxes):\n",
    "    tb = boxes.T\n",
    "    length = tb[2]-tb[0]\n",
    "    width = tb[3]-tb[1]\n",
    "    tb[0] = tb[2]-0.5*length # center x\n",
    "    tb[1] = tb[3]-0.5*width # center y\n",
    "    tb[2] = length\n",
    "    tb[3] = width\n",
    "    res = tb.T\n",
    "    return res\n",
    "\n",
    "def gt_map(o, data):\n",
    "    box = label_pb2.Label.Box()\n",
    "    box.center_x = data.box.center_x\n",
    "    box.center_y = data.box.center_y\n",
    "    box.length = data.box.length\n",
    "    box.width = data.box.width\n",
    "\n",
    "    o.object.box.CopyFrom(box)\n",
    "    o.object.type = data.type\n",
    "\n",
    "def pred_map(o, data):\n",
    "    s, c, b = data\n",
    "    box = label_pb2.Label.Box()\n",
    "    box.center_x = b[0]\n",
    "    box.center_y = b[1]\n",
    "    box.length = b[2]\n",
    "    box.width = b[3]\n",
    "    o.object.box.CopyFrom(box)\n",
    "    o.score = s\n",
    "    # Use correct type.\n",
    "    o.object.type = c.item()+1\n",
    "\n",
    "def filter_preds(data):\n",
    "    scores, classes, boxes = data\n",
    "    valid_idxs = []\n",
    "    for c,cls in enumerate(classes):\n",
    "        if (scores[c]>score_threshold):\n",
    "            valid_idxs.append(c)\n",
    "    valid_idxs = torch.tensor(valid_idxs).long()\n",
    "    scores = scores.index_select(0, valid_idxs)\n",
    "    classes = classes.index_select(0, valid_idxs)\n",
    "    boxes = boxes.index_select(0, valid_idxs)\n",
    "    return (scores, classes, boxes)\n",
    "\n",
    "def process_frame_objects(objs, data, name, ts, cam, scope):\n",
    "    if scope=='preds':\n",
    "        data = filter_preds(data)\n",
    "        num_objects = len(data[0])\n",
    "        boxes = convert_to_waymo_boxes(data[2])\n",
    "    else:\n",
    "        num_objects = len(data)\n",
    "    for c in range(num_objects):\n",
    "        o = metrics_pb2.Object()\n",
    "        o.context_name = name\n",
    "        o.frame_timestamp_micros = ts\n",
    "        o.camera_name = cam = cam\n",
    "        if scope=='preds':\n",
    "            data_i = (data[0][c], data[1][c], boxes[c]) # scores, classes, boxes\n",
    "            pred_map(o, data_i)\n",
    "        else:\n",
    "            gt_map(o, data[c])\n",
    "        objs.append(o)\n",
    "\n",
    "\n",
    "def batch_frame_process(idx, objs):       \n",
    "    print(idx)\n",
    "    image_size = dataset[0]['img'].shape\n",
    "    images = torch.zeros((idx[1]-idx[0],image_size[0], image_size[1], image_size[2]),\n",
    "                         dtype=torch.float64, device=torch.device('cuda'), requires_grad=False)\n",
    "    items = []\n",
    "    print(images.shape)\n",
    "    for index in list(range(idx[0], idx[1])):\n",
    "        item = dataset[index]\n",
    "        items.append(item)\n",
    "        images[index][:] = item['img']\n",
    "    images = torch.DoubleTensor(images)\n",
    "    preds = get_preds(images, model)\n",
    "    print(preds.shape)\n",
    "    \n",
    "    for ind, item in enumerate(items):\n",
    "        ctx = item['raw']['context']\n",
    "        cam = getattr(dataset_pb2.CameraName, dataset.get_cam_type(idx))\n",
    "        # Populate preds\n",
    "        preds[ind][2] /= item['scale']\n",
    "        process_frame_objects(objs, preds[ind], ctx['name'],\n",
    "                              ctx['timestamp'], cam, 'preds')\n",
    "    \n",
    "    \n",
    "def single_batch_process(idx_range):\n",
    "    try:\n",
    "        batch_idx = idx_range[2]\n",
    "        pred_objects = metrics_pb2.Objects()\n",
    "        batch_frame_process((idx_range[0], idx_range[1]), pred_objects.objects)\n",
    "\n",
    "        # Write objects to a file.\n",
    "        print(pred_objects)\n",
    "#         f = open(f'/home/project_x/evaluation/results/preds{shard_idx}.bin', 'wb')\n",
    "#         f.write(pred_objects.SerializeToString())\n",
    "#         f.close()\n",
    "#         gc.collect()\n",
    "    except EOFError:\n",
    "        print(f\"EOFERROR on item {c} from shard {shard_idx}\")\n",
    "    return shard_idx\n",
    "\n",
    "\n",
    "num_frames = len(dataset)\n",
    "batch_size = 1\n",
    "batches = int(np.ceil(num_frames/batch_size))\n",
    "batch_indices = [[i*batch_size, (i+1)*batch_size, i] for i in range(0,batches)]\n",
    "batch_indices[-1][-2] = num_frames-1\n",
    "\n",
    "single_batch_process(batch_indices[0])\n",
    "\n",
    "# concur= True\n",
    "# start = time.time()\n",
    "# with concurr.ProcessPoolExecutor(max_workers = 2) as executor:\n",
    "#     results = executor.map(single_batch_process, batch_indices)\n",
    "#     for i in results:\n",
    "#         print(f'Compiled and save shard {i}')\n",
    "# print(\"Done compiling results\")\n",
    "# end = time.time()\n",
    "# print(f\"Time taken: {end-start}\")\n"
   ]
  },
  {
   "cell_type": "code",
   "execution_count": null,
   "metadata": {},
   "outputs": [],
   "source": [
    "import os\n",
    "import psutil\n",
    "process = psutil.Process(os.getpid())\n",
    "print(process.memory_info().rss) "
   ]
  },
  {
   "cell_type": "code",
   "execution_count": null,
   "metadata": {},
   "outputs": [],
   "source": [
    "7325458432\n",
    "425205760\n",
    "443990016\n",
    "443338752\n",
    "841973760"
   ]
  },
  {
   "cell_type": "code",
   "execution_count": null,
   "metadata": {},
   "outputs": [],
   "source": [
    "3126.1820917129517/60"
   ]
  },
  {
   "cell_type": "code",
   "execution_count": null,
   "metadata": {},
   "outputs": [],
   "source": [
    "%%timeit\n",
    "get_preds(dataset[1], model)"
   ]
  },
  {
   "cell_type": "code",
   "execution_count": null,
   "metadata": {},
   "outputs": [],
   "source": [
    "0.4 *10000"
   ]
  },
  {
   "cell_type": "code",
   "execution_count": null,
   "metadata": {},
   "outputs": [],
   "source": [
    "3126.1820917129517/60"
   ]
  },
  {
   "cell_type": "code",
   "execution_count": null,
   "metadata": {},
   "outputs": [],
   "source": [
    "num_frames = len(dataset)\n",
    "div = 1000\n",
    "shards = int(np.ceil(num_frames/div))\n",
    "shard_indices = [[i*div, (i+1)*div, i] for i in range(10,shards)]\n",
    "shard_indices[-1][-2] = num_frames-1"
   ]
  },
  {
   "cell_type": "code",
   "execution_count": null,
   "metadata": {},
   "outputs": [],
   "source": [
    "shard_indices"
   ]
  },
  {
   "cell_type": "code",
   "execution_count": null,
   "metadata": {},
   "outputs": [],
   "source": [
    "for i in range(16995, 17005):\n",
    "    print(dataset[i].keys())"
   ]
  },
  {
   "cell_type": "code",
   "execution_count": null,
   "metadata": {},
   "outputs": [],
   "source": [
    "dataset[1]['id']"
   ]
  },
  {
   "cell_type": "code",
   "execution_count": null,
   "metadata": {},
   "outputs": [],
   "source": [
    "type(EOFError)"
   ]
  },
  {
   "cell_type": "code",
   "execution_count": null,
   "metadata": {},
   "outputs": [],
   "source": [
    "9035/60"
   ]
  },
  {
   "cell_type": "code",
   "execution_count": null,
   "metadata": {},
   "outputs": [],
   "source": [
    "x = \"\"\"/home/project_x/evaluation/results/preds0.bin /home/project_x/evaluation/results/preds1.bin /home/project_x/evaluation/results/preds10.bin /home/project_x/evaluation/results/preds11.bin /home/project_x/evaluation/results/preds12.bin /home/project_x/evaluation/results/preds13.bin /home/project_x/evaluation/results/preds14.bin /home/project_x/evaluation/results/preds15.bin /home/project_x/evaluation/results/preds16.bin /home/project_x/evaluation/results/preds17.bin /home/project_x/evaluation/results/preds18.bin /home/project_x/evaluation/results/preds19.bin /home/project_x/evaluation/results/preds2.bin /home/project_x/evaluation/results/preds20.bin /home/project_x/evaluation/results/preds21.bin /home/project_x/evaluation/results/preds22.bin /home/project_x/evaluation/results/preds23.bin /home/project_x/evaluation/results/preds24.bin /home/project_x/evaluation/results/preds25.bin /home/project_x/evaluation/results/preds26.bin /home/project_x/evaluation/results/preds27.bin /home/project_x/evaluation/results/preds28.bin /home/project_x/evaluation/results/preds29.bin /home/project_x/evaluation/results/preds3.bin /home/project_x/evaluation/results/preds30.bin /home/project_x/evaluation/results/preds31.bin /home/project_x/evaluation/results/preds32.bin /home/project_x/evaluation/results/preds33.bin /home/project_x/evaluation/results/preds34.bin /home/project_x/evaluation/results/preds35.bin /home/project_x/evaluation/results/preds36.bin /home/project_x/evaluation/results/preds37.bin /home/project_x/evaluation/results/preds38.bin /home/project_x/evaluation/results/preds39.bin /home/project_x/evaluation/results/preds4.bin /home/project_x/evaluation/results/preds5.bin /home/project_x/evaluation/results/preds6.bin /home/project_x/evaluation/results/preds7.bin /home/project_x/evaluation/results/preds8.bin /home/project_x/evaluation/results/preds9.bin\"\"\"\n",
    "x.replace(' ', '\",\"')"
   ]
  },
  {
   "cell_type": "code",
   "execution_count": null,
   "metadata": {},
   "outputs": [],
   "source": [
    "# gcloud compute scp t.sautory@gpu-2:/../home/project_x/README.md Desktop"
   ]
  }
 ],
 "metadata": {
  "kernelspec": {
   "display_name": "Python 3",
   "language": "python",
   "name": "python3"
  },
  "language_info": {
   "codemirror_mode": {
    "name": "ipython",
    "version": 3
   },
   "file_extension": ".py",
   "mimetype": "text/x-python",
   "name": "python",
   "nbconvert_exporter": "python",
   "pygments_lexer": "ipython3",
   "version": "3.6.9"
  }
 },
 "nbformat": 4,
 "nbformat_minor": 4
}
